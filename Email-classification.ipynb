{
 "cells": [
  {
   "cell_type": "code",
   "execution_count": 2,
   "metadata": {},
   "outputs": [],
   "source": [
    "import os\n",
    "import pandas as pd\n",
    "import matplotlib.pyplot as plt\n",
    "from src.reader import DSReader\n",
    "from sklearn.pipeline import Pipeline\n",
    "from sklearn.naive_bayes import MultinomialNB\n",
    "from sklearn.linear_model import SGDClassifier\n",
    "from sklearn.tree import DecisionTreeRegressor\n",
    "from sklearn.ensemble import RandomForestRegressor\n",
    "from sklearn.ensemble import RandomForestClassifier\n",
    "from sklearn.model_selection import train_test_split\n",
    "from sklearn.feature_selection import SelectKBest, chi2\n",
    "from sklearn.feature_extraction.text import CountVectorizer\n",
    "from sklearn.feature_extraction.text import TfidfTransformer"
   ]
  },
  {
   "cell_type": "code",
   "execution_count": 3,
   "metadata": {},
   "outputs": [],
   "source": [
    "# loading the dataset\n",
    "dataset_path = os.path.abspath(\"./tests/datasets/emails.csv\")\n",
    "emails_data = DSReader(dataset_path)"
   ]
  },
  {
   "cell_type": "code",
   "execution_count": 4,
   "metadata": {},
   "outputs": [
    {
     "data": {
      "text/html": [
       "<div>\n",
       "<style scoped>\n",
       "    .dataframe tbody tr th:only-of-type {\n",
       "        vertical-align: middle;\n",
       "    }\n",
       "\n",
       "    .dataframe tbody tr th {\n",
       "        vertical-align: top;\n",
       "    }\n",
       "\n",
       "    .dataframe thead th {\n",
       "        text-align: right;\n",
       "    }\n",
       "</style>\n",
       "<table border=\"1\" class=\"dataframe\">\n",
       "  <thead>\n",
       "    <tr style=\"text-align: right;\">\n",
       "      <th></th>\n",
       "      <th>email</th>\n",
       "      <th>label</th>\n",
       "    </tr>\n",
       "  </thead>\n",
       "  <tbody>\n",
       "    <tr>\n",
       "      <th>0</th>\n",
       "      <td>save life insurance spend life quote savings e...</td>\n",
       "      <td>1</td>\n",
       "    </tr>\n",
       "    <tr>\n",
       "      <th>1</th>\n",
       "      <td>fight risk cancer http www adclick cfm slim gu...</td>\n",
       "      <td>1</td>\n",
       "    </tr>\n",
       "    <tr>\n",
       "      <th>2</th>\n",
       "      <td>fight risk cancer http www adclick cfm slim gu...</td>\n",
       "      <td>1</td>\n",
       "    </tr>\n",
       "    <tr>\n",
       "      <th>3</th>\n",
       "      <td>adult club offers free membership instant acce...</td>\n",
       "      <td>1</td>\n",
       "    </tr>\n",
       "    <tr>\n",
       "      <th>4</th>\n",
       "      <td>thought might like slim guaranteed lose lbs da...</td>\n",
       "      <td>1</td>\n",
       "    </tr>\n",
       "    <tr>\n",
       "      <th>...</th>\n",
       "      <td>...</td>\n",
       "      <td>...</td>\n",
       "    </tr>\n",
       "    <tr>\n",
       "      <th>6033</th>\n",
       "      <td>isilo palm pocket windows enters beta isilo wi...</td>\n",
       "      <td>0</td>\n",
       "    </tr>\n",
       "    <tr>\n",
       "      <th>6034</th>\n",
       "      <td>effector vol november ren eff orga publication...</td>\n",
       "      <td>0</td>\n",
       "    </tr>\n",
       "    <tr>\n",
       "      <th>6039</th>\n",
       "      <td>extended free seat sale thursday november deta...</td>\n",
       "      <td>0</td>\n",
       "    </tr>\n",
       "    <tr>\n",
       "      <th>6042</th>\n",
       "      <td>one ten insignificant matters heavily overemph...</td>\n",
       "      <td>0</td>\n",
       "    </tr>\n",
       "    <tr>\n",
       "      <th>6043</th>\n",
       "      <td>issue readers write extension search dumb mess...</td>\n",
       "      <td>0</td>\n",
       "    </tr>\n",
       "  </tbody>\n",
       "</table>\n",
       "<p>5251 rows × 2 columns</p>\n",
       "</div>"
      ],
      "text/plain": [
       "                                                  email  label\n",
       "0     save life insurance spend life quote savings e...      1\n",
       "1     fight risk cancer http www adclick cfm slim gu...      1\n",
       "2     fight risk cancer http www adclick cfm slim gu...      1\n",
       "3     adult club offers free membership instant acce...      1\n",
       "4     thought might like slim guaranteed lose lbs da...      1\n",
       "...                                                 ...    ...\n",
       "6033  isilo palm pocket windows enters beta isilo wi...      0\n",
       "6034  effector vol november ren eff orga publication...      0\n",
       "6039  extended free seat sale thursday november deta...      0\n",
       "6042  one ten insignificant matters heavily overemph...      0\n",
       "6043  issue readers write extension search dumb mess...      0\n",
       "\n",
       "[5251 rows x 2 columns]"
      ]
     },
     "execution_count": 4,
     "metadata": {},
     "output_type": "execute_result"
    }
   ],
   "source": [
    "# clearing data\n",
    "emails_data.to_lower()\n",
    "emails_data.remove_digits()\n",
    "emails_data.remove_punctuation_marks()\n",
    "emails_data.remove_duplicates()\n",
    "emails_data.remove_stopwords()"
   ]
  },
  {
   "cell_type": "code",
   "execution_count": 5,
   "metadata": {},
   "outputs": [],
   "source": [
    "X, y = emails_data.vectorize()"
   ]
  },
  {
   "cell_type": "code",
   "execution_count": 8,
   "metadata": {},
   "outputs": [],
   "source": [
    "# test parameters\n",
    "test_size = [0.15, 0.25, 0.50, 0.75, 0.95]"
   ]
  },
  {
   "cell_type": "code",
   "execution_count": 9,
   "metadata": {},
   "outputs": [
    {
     "name": "stdout",
     "output_type": "stream",
     "text": [
      "\n",
      "    Classification score for RandomForestClassifier, \n",
      "    with test size = 15.0 %:\n",
      "    score = 0.9822335025380711\n",
      "\n",
      "    Classification score for RandomForestClassifier, \n",
      "    with test size = 25.0 %:\n",
      "    score = 0.9756283320639756\n",
      "\n",
      "    Classification score for RandomForestClassifier, \n",
      "    with test size = 50.0 %:\n",
      "    score = 0.9733434881949733\n",
      "\n",
      "    Classification score for RandomForestClassifier, \n",
      "    with test size = 75.0 %:\n",
      "    score = 0.9598882965219598\n",
      "\n",
      "    Classification score for RandomForestClassifier, \n",
      "    with test size = 95.0 %:\n",
      "    score = 0.9092002405291641\n",
      "\n",
      "Mean score:  0.9600587719696287\n",
      "Best score:  0.9822335025380711\n",
      "Low score:  0.9092002405291641\n"
     ]
    },
    {
     "data": {
      "image/png": "[encoded data removed]",
      "text/plain": [
       "<Figure size 432x288 with 1 Axes>"
      ]
     },
     "metadata": {
      "needs_background": "light"
     },
     "output_type": "display_data"
    }
   ],
   "source": [
    "scores = []\n",
    "\n",
    "for size in test_size:\n",
    "    X_train1, X_test1, y_train1, y_test1 = train_test_split(X, y, test_size=size, random_state=1)\n",
    "    \n",
    "    pipeline_RandomForestClassifier = Pipeline([('vect', CountVectorizer()),\n",
    "                                                ('tfidf', TfidfTransformer()),\n",
    "                                                ('clf', RandomForestClassifier(random_state=1))])\n",
    "    \n",
    "    \n",
    "    pipeline_RandomForestClassifier.fit(X_train1.ravel(), y_train1)\n",
    "    \n",
    "    score = pipeline_RandomForestClassifier.score(X_test1.ravel(), y_test1)\n",
    "\n",
    "    scores.append(score)\n",
    "    print(f\"\"\"\n",
    "    Classification score for RandomForestClassifier, \n",
    "    with test size = {size * 100} %:\n",
    "    score = {score}\"\"\")\n",
    "        \n",
    "print(\"\\nMean score: \", sum(scores) / len(scores))\n",
    "print(\"Best score: \", max(scores))\n",
    "print(\"Low score: \", min(scores))\n",
    "\n",
    "plt.plot(scores, test_size)\n",
    "plt.xlabel(\"score\")\n",
    "plt.ylabel(\"test size\")\n",
    "plt.show()\n",
    "    \n",
    "scores.clear()"
   ]
  },
  {
   "cell_type": "code",
   "execution_count": 10,
   "metadata": {},
   "outputs": [
    {
     "name": "stdout",
     "output_type": "stream",
     "text": [
      "\n",
      "    Classification score for MultinomialNB, \n",
      "    with test size = 15.0 %:\n",
      "    score = 0.9822335025380711\n",
      "\n",
      "    Classification score for MultinomialNB, \n",
      "    with test size = 25.0 %:\n",
      "    score = 0.9794364051789795\n",
      "\n",
      "    Classification score for MultinomialNB, \n",
      "    with test size = 50.0 %:\n",
      "    score = 0.9741051028179741\n",
      "\n",
      "    Classification score for MultinomialNB, \n",
      "    with test size = 75.0 %:\n",
      "    score = 0.9682660573749683\n",
      "\n",
      "    Classification score for MultinomialNB, \n",
      "    with test size = 95.0 %:\n",
      "    score = 0.9542994588093806\n",
      "\n",
      "Mean score:  0.9716681053438748\n",
      "Best score:  0.9822335025380711\n",
      "Low score:  0.9542994588093806\n"
     ]
    },
    {
     "data": {
      "image/png": "[encoded data removed]",
      "text/plain": [
       "<Figure size 432x288 with 1 Axes>"
      ]
     },
     "metadata": {
      "needs_background": "light"
     },
     "output_type": "display_data"
    }
   ],
   "source": [
    "scores = []\n",
    "\n",
    "for size in test_size:\n",
    "    X_train, X_test, y_train, y_test = train_test_split(X, y, test_size=size, random_state=1)\n",
    "    \n",
    "    pipeline_MultinomialNB = Pipeline([('vect', CountVectorizer()),\n",
    "                                       ('clf', MultinomialNB())])\n",
    "    \n",
    "    pipeline_MultinomialNB.fit(X_train.ravel(), y_train)\n",
    "    \n",
    "    score = pipeline_MultinomialNB.score(X_test.ravel(), y_test)\n",
    "\n",
    "    scores.append(score)\n",
    "    print(f\"\"\"\n",
    "    Classification score for MultinomialNB, \n",
    "    with test size = {size * 100} %:\n",
    "    score = {score}\"\"\")\n",
    "    \n",
    "print(\"\\nMean score: \", sum(scores) / len(scores))\n",
    "print(\"Best score: \", max(scores))\n",
    "print(\"Low score: \", min(scores))\n",
    "        \n",
    "plt.plot(scores, test_size)\n",
    "plt.xlabel(\"score\")\n",
    "plt.ylabel(\"test size\")\n",
    "plt.show()\n",
    "    \n",
    "scores.clear()"
   ]
  },
  {
   "cell_type": "code",
   "execution_count": 11,
   "metadata": {},
   "outputs": [
    {
     "name": "stdout",
     "output_type": "stream",
     "text": [
      "\n",
      "    Classification score for SGDClassifier1, \n",
      "    with test size = 15.0 %:\n",
      "    score = 0.9885786802030457\n",
      "\n",
      "    Classification score for SGDClassifier1, \n",
      "    with test size = 25.0 %:\n",
      "    score = 0.9794364051789795\n",
      "\n",
      "    Classification score for SGDClassifier1, \n",
      "    with test size = 50.0 %:\n",
      "    score = 0.9748667174409749\n",
      "\n",
      "    Classification score for SGDClassifier1, \n",
      "    with test size = 75.0 %:\n",
      "    score = 0.9611576542269612\n",
      "\n",
      "    Classification score for SGDClassifier1, \n",
      "    with test size = 95.0 %:\n",
      "    score = 0.9051914211264782\n",
      "\n",
      "Mean score:  0.9618461756352878\n",
      "Best score:  0.9885786802030457\n",
      "Low score:  0.9051914211264782\n"
     ]
    },
    {
     "data": {
      "image/png": "[encoded data removed]",
      "text/plain": [
       "<Figure size 432x288 with 1 Axes>"
      ]
     },
     "metadata": {
      "needs_background": "light"
     },
     "output_type": "display_data"
    }
   ],
   "source": [
    "scores = []\n",
    "\n",
    "for size in test_size:\n",
    "    X_train, X_test, y_train, y_test = train_test_split(X, y, test_size=size, random_state=1)\n",
    "    \n",
    "    pipeline_SGDClassifier1 = Pipeline([('vect', CountVectorizer()),\n",
    "                                       ('clf', SGDClassifier(loss='hinge', penalty='l2',\n",
    "                                                             alpha=1e-3, random_state=1))])\n",
    "    \n",
    "    pipeline_SGDClassifier1.fit(X_train.ravel(), y_train)\n",
    "    \n",
    "    score = pipeline_SGDClassifier1.score(X_test.ravel(), y_test)\n",
    "\n",
    "    scores.append(score)\n",
    "    print(f\"\"\"\n",
    "    Classification score for SGDClassifier1, \n",
    "    with test size = {size * 100} %:\n",
    "    score = {score}\"\"\")\n",
    "    \n",
    "print(\"\\nMean score: \", sum(scores) / len(scores))\n",
    "print(\"Best score: \", max(scores))\n",
    "print(\"Low score: \", min(scores))\n",
    "        \n",
    "plt.plot(scores, test_size)\n",
    "plt.xlabel(\"score\")\n",
    "plt.ylabel(\"test size\")\n",
    "plt.show()\n",
    "    \n",
    "scores.clear()"
   ]
  },
  {
   "cell_type": "code",
   "execution_count": 12,
   "metadata": {},
   "outputs": [
    {
     "name": "stdout",
     "output_type": "stream",
     "text": [
      "\n",
      "    Classification score for SGDClassifier2, \n",
      "    with test size = 15.0 %:\n",
      "    score = 0.9809644670050761\n",
      "\n",
      "    Classification score for SGDClassifier2, \n",
      "    with test size = 25.0 %:\n",
      "    score = 0.9763899466869764\n",
      "\n",
      "    Classification score for SGDClassifier2, \n",
      "    with test size = 50.0 %:\n",
      "    score = 0.9744859101294745\n",
      "\n",
      "    Classification score for SGDClassifier2, \n",
      "    with test size = 75.0 %:\n",
      "    score = 0.969027671997969\n",
      "\n",
      "    Classification score for SGDClassifier2, \n",
      "    with test size = 95.0 %:\n",
      "    score = 0.9488875526157546\n",
      "\n",
      "Mean score:  0.9699511096870502\n",
      "Best score:  0.9809644670050761\n",
      "Low score:  0.9488875526157546\n"
     ]
    },
    {
     "data": {
      "image/png": "[encoded data removed]",
      "text/plain": [
       "<Figure size 432x288 with 1 Axes>"
      ]
     },
     "metadata": {
      "needs_background": "light"
     },
     "output_type": "display_data"
    }
   ],
   "source": [
    "scores = []\n",
    "\n",
    "for size in test_size:\n",
    "    X_train, X_test, y_train, y_test = train_test_split(X, y, test_size=size, random_state=1)\n",
    "    \n",
    "    pipeline_SGDClassifier2 = Pipeline([('vect', CountVectorizer()),\n",
    "                                       ('tfidf', TfidfTransformer()),\n",
    "                                       ('clf', SGDClassifier(loss='hinge', penalty='l2',\n",
    "                                                             alpha=1e-3, random_state=1))])\n",
    "    \n",
    "    pipeline_SGDClassifier2.fit(X_train.ravel(), y_train)\n",
    "    \n",
    "    score = pipeline_SGDClassifier2.score(X_test.ravel(), y_test)\n",
    "\n",
    "    scores.append(score)\n",
    "    print(f\"\"\"\n",
    "    Classification score for SGDClassifier2, \n",
    "    with test size = {size * 100} %:\n",
    "    score = {score}\"\"\")\n",
    "    \n",
    "print(\"\\nMean score: \", sum(scores) / len(scores))\n",
    "print(\"Best score: \", max(scores))\n",
    "print(\"Low score: \", min(scores))\n",
    "        \n",
    "plt.plot(scores, test_size)\n",
    "plt.xlabel(\"score\")\n",
    "plt.ylabel(\"test size\")\n",
    "plt.show()\n",
    "    \n",
    "scores.clear()"
   ]
  },
  {
   "cell_type": "code",
   "execution_count": 15,
   "metadata": {},
   "outputs": [
    {
     "name": "stdout",
     "output_type": "stream",
     "text": [
      "\n",
      "    Classification score for SGDClassifier3, \n",
      "    with test size = 15.0 %:\n",
      "    score = 0.9885786802030457\n",
      "\n",
      "    Classification score for SGDClassifier3, \n",
      "    with test size = 25.0 %:\n",
      "    score = 0.9809596344249809\n",
      "\n",
      "    Classification score for SGDClassifier3, \n",
      "    with test size = 50.0 %:\n",
      "    score = 0.9718202589489718\n",
      "\n",
      "    Classification score for SGDClassifier3, \n",
      "    with test size = 75.0 %:\n",
      "    score = 0.9603960396039604\n",
      "\n",
      "    Classification score for SGDClassifier3, \n",
      "    with test size = 95.0 %:\n",
      "    score = 0.9108037682902386\n",
      "\n",
      "Mean score:  0.9625116762942394\n",
      "Best score:  0.9885786802030457\n",
      "Low score:  0.9108037682902386\n"
     ]
    },
    {
     "data": {
      "image/png": "[encoded data removed]",
      "text/plain": [
       "<Figure size 432x288 with 1 Axes>"
      ]
     },
     "metadata": {
      "needs_background": "light"
     },
     "output_type": "display_data"
    }
   ],
   "source": [
    "scores = []\n",
    "\n",
    "for size in test_size:\n",
    "    X_train, X_test, y_train, y_test = train_test_split(X, y, test_size=size, random_state=1)\n",
    "    \n",
    "    pipeline_SGDClassifier3 = Pipeline([('vect', CountVectorizer()),\n",
    "                                       ('chi', SelectKBest(chi2, k=9500)),\n",
    "                                       ('clf', SGDClassifier(loss='hinge', penalty='l2',\n",
    "                                                             alpha=1e-3, random_state=1))])\n",
    "    \n",
    "    pipeline_SGDClassifier3.fit(X_train.ravel(), y_train)\n",
    "    \n",
    "    score = pipeline_SGDClassifier3.score(X_test.ravel(), y_test)\n",
    "\n",
    "    scores.append(score)\n",
    "    print(f\"\"\"\n",
    "    Classification score for SGDClassifier3, \n",
    "    with test size = {size * 100} %:\n",
    "    score = {score}\"\"\")\n",
    "    \n",
    "print(\"\\nMean score: \", sum(scores) / len(scores))\n",
    "print(\"Best score: \", max(scores))\n",
    "print(\"Low score: \", min(scores))\n",
    "        \n",
    "plt.plot(scores, test_size)\n",
    "plt.xlabel(\"score\")\n",
    "plt.ylabel(\"test size\")\n",
    "plt.show()\n",
    "    \n",
    "scores.clear()"
   ]
  },
  {
   "cell_type": "markdown",
   "metadata": {},
   "source": [
    "Random Forest Classifier:\n",
    "  - Mean score:  0.9600587719696287   0(---)\n",
    "  - Best score:  0.9822335025380711   2(WIN 2-nd)\n",
    "  - Low score:  0.9092002405291641    0(---)\n",
    "  \n",
    "score = 2\n",
    "\n",
    "MultinomialNB:\n",
    "  - Mean score:  0.9716681053438748  3(WIN 1-st)\n",
    "  - Best score:  0.9822335025380711  2(WIN 2-nd)\n",
    "  - Low score:  0.9542994588093806   3(WIN 1-st)\n",
    "  \n",
    "score = 8\n",
    "\n",
    "SGDClassifier:\n",
    "  - Mean score:  0.9618461756352878  1(WIN 3-rd)\n",
    "  - Best score:  0.9885786802030457  3(WIN 1-st)\n",
    "  - Low score:  0.9051914211264782   1(WIN 3-rd)\n",
    "  \n",
    "score = 4\n",
    "\n",
    "SGDClassifier (TfidfTransformer):\n",
    "  - Mean score:  0.9699511096870502  2(WIN 2-nd)\n",
    "  - Best score:  0.9809644670050761  1(WIN 3-rd)\n",
    "  - Low score:  0.9488875526157546   2(WIN 2-nd)\n",
    "  \n",
    "score = 5\n",
    "\n",
    "SGDClassifier (SelectKBest):\n",
    "  - Mean score:  0.9617639704741224   0(---)\n",
    "  - Best score:  0.9822335025380711   2(WIN 2-nd)\n",
    "  - Low score:  0.9248346361996392    1(WIN 3-rd)  \n",
    "  \n",
    "score = 3\n"
   ]
  },
  {
   "cell_type": "code",
   "execution_count": 16,
   "metadata": {},
   "outputs": [],
   "source": [
    "# USER INPUT\n",
    "\n",
    "# email_text = input('Paste your email text:\\n')\n",
    "\n",
    "# df_email = pd.DataFrame({'email': [email_text],\n",
    "#                          'label': '?'})\n",
    "                        \n",
    "# df_email.to_csv(path_or_buf='user.csv', index=False)\n",
    "                        \n",
    "# dataset_path = os.path.abspath(\"user.csv\")\n",
    "\n",
    "# emails_user = DSReader(dataset_path)\n",
    "                        \n",
    "# emails_user.to_lower()\n",
    "# emails_user.remove_digits()\n",
    "# emails_user.remove_punctuation_marks()\n",
    "# emails_user.remove_duplicates()\n",
    "# emails_user.remove_stopwords()\n",
    "\n",
    "# predict = pipeline_SGDClassifier.predict(emails_user.dataset['email'])\n",
    "\n",
    "# print(predict)\n",
    "# print(\"I think this is SPAM\" if predict == [1] else \"I think this is NOT SPAM\" )\n",
    "\n",
    "# print(emails_user.dataset['email'])"
   ]
  },
  {
   "cell_type": "code",
   "execution_count": 17,
   "metadata": {},
   "outputs": [
    {
     "data": {
      "image/png": "[encoded data removed]",
      "text/plain": [
       "<Figure size 432x288 with 2 Axes>"
      ]
     },
     "metadata": {
      "needs_background": "light"
     },
     "output_type": "display_data"
    },
    {
     "name": "stdout",
     "output_type": "stream",
     "text": [
      "Recall    = 0.8984049079754601\n",
      "Precision = 0.9894594594594595\n",
      "F-measure = 0.9417363344051447\n"
     ]
    },
    {
     "data": {
      "image/png": "[encoded data removed]",
      "text/plain": [
       "<Figure size 432x288 with 2 Axes>"
      ]
     },
     "metadata": {
      "needs_background": "light"
     },
     "output_type": "display_data"
    },
    {
     "name": "stdout",
     "output_type": "stream",
     "text": [
      "Recall    = 0.9138240574506283\n",
      "Precision = 0.962972972972973\n",
      "F-measure = 0.9377549677589156\n"
     ]
    },
    {
     "data": {
      "image/png": "[encoded data removed]",
      "text/plain": [
       "<Figure size 432x288 with 2 Axes>"
      ]
     },
     "metadata": {
      "needs_background": "light"
     },
     "output_type": "display_data"
    },
    {
     "name": "stdout",
     "output_type": "stream",
     "text": [
      "Recall    = 0.9401993355481728\n",
      "Precision = 0.9943243243243243\n",
      "F-measure = 0.9665046630763168\n"
     ]
    },
    {
     "data": {
      "image/png": "[encoded data removed]",
      "text/plain": [
       "<Figure size 432x288 with 2 Axes>"
      ]
     },
     "metadata": {
      "needs_background": "light"
     },
     "output_type": "display_data"
    },
    {
     "name": "stdout",
     "output_type": "stream",
     "text": [
      "Recall    = 0.9041470076980382\n",
      "Precision = 0.9840540540540541\n",
      "F-measure = 0.9424097321081921\n"
     ]
    },
    {
     "data": {
      "image/png": "[encoded data removed]",
      "text/plain": [
       "<Figure size 432x288 with 2 Axes>"
      ]
     },
     "metadata": {
      "needs_background": "light"
     },
     "output_type": "display_data"
    },
    {
     "name": "stdout",
     "output_type": "stream",
     "text": [
      "Recall    = 0.9513780551222049\n",
      "Precision = 0.9889189189189189\n",
      "F-measure = 0.9697853167240922\n"
     ]
    }
   ],
   "source": [
    "from sklearn.metrics import confusion_matrix\n",
    "from sklearn.metrics import plot_confusion_matrix\n",
    "\n",
    "class_names = ['not spam', 'spam']\n",
    "\n",
    "titles_options = [(\"Confusion matrix RandomForestClassifier\", None, pipeline_RandomForestClassifier),\n",
    "                  (\"Confusion matrix SGDClassifier\", None, pipeline_SGDClassifier1),\n",
    "                  (\"Confusion matrix SGDClassifier (tfidf)\", None, pipeline_SGDClassifier2),\n",
    "                  (\"Confusion matrix SGDClassifier (chi)\", None, pipeline_SGDClassifier3),\n",
    "                  (\"Confusion matrix MultinomialNB\", None, pipeline_MultinomialNB)]\n",
    "\n",
    "for title, normalize, classifier in titles_options:\n",
    "    disp = plot_confusion_matrix(classifier, X_test.ravel(), y_test,\n",
    "                                 display_labels=class_names,\n",
    "                                 cmap=plt.cm.Blues,\n",
    "                                 normalize=normalize)\n",
    "    \n",
    "    matrix = disp.confusion_matrix\n",
    "    \n",
    "    TP, FP, FN, TN = matrix[0][0], matrix[0][1], matrix[1][0], matrix[1][1]\n",
    "    \n",
    "    disp.ax_.set_title(title)\n",
    "    \n",
    "    recall = TP/(TP + FN)\n",
    "    precision = TP/(TP + FP)\n",
    "    f_measure = 2 * recall * precision/(precision + recall)\n",
    "    \n",
    "    plt.show()\n",
    "    \n",
    "    print(f\"Recall    = {recall}\\nPrecision = {precision}\\nF-measure = {f_measure}\")"
   ]
  },
  {
   "cell_type": "code",
   "execution_count": 18,
   "metadata": {},
   "outputs": [
    {
     "data": {
      "text/plain": [
       "0    3889\n",
       "1    1362\n",
       "Name: label, dtype: int64"
      ]
     },
     "execution_count": 18,
     "metadata": {},
     "output_type": "execute_result"
    }
   ],
   "source": [
    "emails_data.dataset['label'].value_counts()"
   ]
  },
  {
   "cell_type": "code",
   "execution_count": null,
   "metadata": {},
   "outputs": [],
   "source": []
  },
  {
   "cell_type": "code",
   "execution_count": null,
   "metadata": {},
   "outputs": [],
   "source": []
  },
  {
   "cell_type": "code",
   "execution_count": null,
   "metadata": {},
   "outputs": [],
   "source": []
  }
 ],
 "metadata": {
  "kernelspec": {
   "display_name": "Python 3",
   "language": "python",
   "name": "python3"
  },
  "language_info": {
   "codemirror_mode": {
    "name": "ipython",
    "version": 3
   },
   "file_extension": ".py",
   "mimetype": "text/x-python",
   "name": "python",
   "nbconvert_exporter": "python",
   "pygments_lexer": "ipython3",
   "version": "3.8.5"
  }
 },
 "nbformat": 4,
 "nbformat_minor": 4
}
