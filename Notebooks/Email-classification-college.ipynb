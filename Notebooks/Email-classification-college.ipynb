{
 "cells": [
  {
   "cell_type": "markdown",
   "metadata": {},
   "source": [
    "# Система распознавания спама в рассылках.\n",
    "\n",
    "Чтобы воспользоваться данной программой, внимательно читайте все аннотации к строкам кода.\n",
    "\n",
    "Для запуска ячеек кода в интерактивном блокноте используйте:\n",
    "\n",
    "1. Кнопку (▶Run) на верхней панели;\n",
    "2. Сочитание клавиш Shift+Enter.\n",
    "\n",
    "Используя интерактивный блокнот вы сможете увидеть полную реализацию программы и подметитить некоторые важные моменты для себя.\n",
    "\n",
    "Удачи в использовании нашей программы ;)\n",
    "\n",
    "Подробная инструкция по установке программы находится по ссылке:<br>\n",
    "https://github.com/awilliamson1889/Python-DS-Learning\n",
    "\n",
    "<b>Первый шаг который необходимо сделать запустить ячейку ниже для подключения всех необходимых библиотек.</b>"
   ]
  },
  {
   "cell_type": "code",
   "execution_count": 5,
   "metadata": {},
   "outputs": [
    {
     "name": "stdout",
     "output_type": "stream",
     "text": [
      "Библиотеки успешно подключены !\n"
     ]
    },
    {
     "name": "stderr",
     "output_type": "stream",
     "text": [
      "[nltk_data] Downloading package stopwords to\n",
      "[nltk_data]     C:\\Users\\Masquerade\\AppData\\Roaming\\nltk_data...\n",
      "[nltk_data]   Package stopwords is already up-to-date!\n",
      "[nltk_data] Downloading package punkt to\n",
      "[nltk_data]     C:\\Users\\Masquerade\\AppData\\Roaming\\nltk_data...\n",
      "[nltk_data]   Package punkt is already up-to-date!\n"
     ]
    }
   ],
   "source": [
    "import os\n",
    "import nltk\n",
    "import pandas as pd\n",
    "import matplotlib.pyplot as plt\n",
    "from src.reader import DSReader\n",
    "from sklearn.pipeline import Pipeline\n",
    "from sklearn.linear_model import SGDClassifier\n",
    "from sklearn.metrics import plot_confusion_matrix\n",
    "from sklearn.feature_extraction.text import CountVectorizer\n",
    "from sklearn.feature_extraction.text import TfidfTransformer\n",
    "\n",
    "ё\n",
    "try:\n",
    "    nltk.find(\"stopwords\")\n",
    "except LookupError:\n",
    "    nltk.download(\"stopwords\")\n",
    "    \n",
    "try:\n",
    "    nltk.find(\"punkt\")\n",
    "except LookupError:\n",
    "    nltk.download('punkt')\n",
    "    \n",
    "print('Библиотеки успешно подключены !')"
   ]
  },
  {
   "cell_type": "markdown",
   "metadata": {},
   "source": [
    "Набор данных является важной частью машинного обучения, от качества набора данных сильно зависит процесс обучения модели.\n",
    "\n",
    "<b>Запустите ячейку ниже для загрузки набора данных.</b>"
   ]
  },
  {
   "cell_type": "code",
   "execution_count": 6,
   "metadata": {},
   "outputs": [
    {
     "name": "stdout",
     "output_type": "stream",
     "text": [
      "Наборы данных успешно загружены !\n"
     ]
    }
   ],
   "source": [
    "url1 = 'raw.githubusercontent.com/awilliamson1889/Python-DS-Learning/experiment/tests/datasets/emails.csv'\n",
    "url2 = 'raw.githubusercontent.com/awilliamson1889/Python-DS-Learning/experiment/tests/datasets/spam_ham_dataset.csv'\n",
    "\n",
    "dataset_path = os.path.abspath(\"./tests/datasets/emails.csv\")\n",
    "test_dataset_path = os.path.abspath(\"./tests/datasets/spam_ham_dataset.csv\")\n",
    "\n",
    "try:\n",
    "    emails_data = DSReader(dataset_path)\n",
    "except FileNotFoundError:\n",
    "    print(\"Dataset not found.\\nDownloading dataset from: \", url1)\n",
    "    emails_data = DSReader(url1)\n",
    "    \n",
    "try:\n",
    "    emails_test_data = DSReader(test_dataset_path)\n",
    "except FileNotFoundError:\n",
    "    print(\"Dataset not found.\\nDownloading dataset from: \", url2)\n",
    "    emails_test_data = DSReader(url2)\n",
    "    \n",
    "print('Наборы данных успешно загружены !')"
   ]
  },
  {
   "cell_type": "markdown",
   "metadata": {},
   "source": [
    "Как говорилось ранее - качество набора данных сильно влияет на процесс обучения модели.\n",
    "\n",
    "Для улучшения качества набора данных он проходит этап очистки.\n",
    "\n",
    "Этапы очистки набора данных:\n",
    "1. Приведение всего набора данных к нижнему регистру;\n",
    "2. Удаление чисел из набора данных (писем);\n",
    "3. Удаление знаков пунктуации из набора данных (писем);\n",
    "4. Удаление повторяющихся данных;\n",
    "5. Удаление стоп-слов (the, is, a and etc).\n",
    "\n",
    "<b>Запустите ячейку ниже для очистки набора данных.</b>"
   ]
  },
  {
   "cell_type": "code",
   "execution_count": 7,
   "metadata": {},
   "outputs": [
    {
     "name": "stdout",
     "output_type": "stream",
     "text": [
      "Данные успешно очищены !\n"
     ]
    }
   ],
   "source": [
    "def data_set_cleaning(obj):\n",
    "    obj.to_lower()\n",
    "    obj.remove_digits()\n",
    "    obj.remove_punctuation_marks()\n",
    "    obj.remove_duplicates()\n",
    "    obj.remove_stopwords()\n",
    "    \n",
    "data_set_cleaning(emails_data)\n",
    "data_set_cleaning(emails_test_data)\n",
    "\n",
    "X_train, y_train = emails_data.vectorize()\n",
    "X_test, y_test = emails_test_data.vectorize()\n",
    "\n",
    "print('Данные успешно очищены !')"
   ]
  },
  {
   "cell_type": "markdown",
   "metadata": {},
   "source": [
    "После подготовки набора данных можно приступить к процессу обучения модели.\n",
    "\n",
    "<b>Запустите ячейку ниже для обучения модели.</b>"
   ]
  },
  {
   "cell_type": "code",
   "execution_count": 8,
   "metadata": {},
   "outputs": [
    {
     "name": "stdout",
     "output_type": "stream",
     "text": [
      "Обучение модели прошло успешно!\n",
      "Модель готова к использованию.\n"
     ]
    }
   ],
   "source": [
    "pipeline_SGDClassifier2 = Pipeline([('vect', CountVectorizer()),\n",
    "                                    ('tfidf', TfidfTransformer()),\n",
    "                                    ('clf', SGDClassifier(loss='hinge', penalty='l2',\n",
    "                                                          alpha=1e-3, random_state=1))])\n",
    "\n",
    "pipeline_SGDClassifier2.fit(X_train.ravel(), y_train)\n",
    "\n",
    "print('Обучение модели прошло успешно!\\nМодель готова к использованию.')"
   ]
  },
  {
   "cell_type": "markdown",
   "metadata": {},
   "source": [
    "После успешного обучения модели происходит этап оценки точности модели.\n",
    "\n",
    "<b>Запустите ячейку ниже и посмотрите на оценочные метрики модели и матрицу неточностей!</b>"
   ]
  },
  {
   "cell_type": "code",
   "execution_count": 25,
   "metadata": {},
   "outputs": [
    {
     "data": {
      "image/png": "[encoded data removed]",
      "text/plain": [
       "<Figure size 432x288 with 2 Axes>"
      ]
     },
     "metadata": {
      "needs_background": "light"
     },
     "output_type": "display_data"
    },
    {
     "name": "stdout",
     "output_type": "stream",
     "text": [
      "Оценочные метрики модели:\n",
      "Recall = 0.7854406130268199\n",
      "Precision = 0.9490740740740741\n",
      "F-measure = 0.859538784067086\n"
     ]
    }
   ],
   "source": [
    "class_names = ['not spam', 'spam']\n",
    "\n",
    "titles_options = [(\"Матрица неточностей модели\", None, pipeline_SGDClassifier2)]\n",
    "\n",
    "for title, normalize, classifier in titles_options:\n",
    "    disp = plot_confusion_matrix(classifier, X_test.ravel(), y_test,\n",
    "                                 display_labels=class_names,\n",
    "                                 cmap=plt.cm.Blues,\n",
    "                                 normalize=normalize)\n",
    "\n",
    "    matrix = disp.confusion_matrix\n",
    "\n",
    "    TP, FP, FN, TN = matrix[0][0], matrix[0][1], matrix[1][0], matrix[1][1]\n",
    "\n",
    "    disp.ax_.set_title(title)\n",
    "\n",
    "    recall = TP / (TP + FN)\n",
    "    precision = TP / (TP + FP)\n",
    "    f_measure = 2 * recall * precision / (precision + recall)\n",
    "\n",
    "    plt.show()\n",
    "    \n",
    "print(f'Оценочные метрики модели:\\nRecall = {recall}\\nPrecision = {precision}\\nF-measure = {f_measure}')"
   ]
  },
  {
   "cell_type": "markdown",
   "metadata": {},
   "source": [
    "Можно заметить что наша модель довольно таки хорошо определяет наличие СПАМА в рассылке.\n",
    "\n",
    "Наконецто мы можем вводить наши данные и получать предсказания модели.\n",
    "\n",
    "<b>Запустите ячейку ниже и попробуйте передать моделе текст письма (на английском языке).</b>"
   ]
  },
  {
   "cell_type": "code",
   "execution_count": 2,
   "metadata": {},
   "outputs": [
    {
     "name": "stdout",
     "output_type": "stream",
     "text": [
      "Пожалуйста введите текст сообщения:\n",
      "Привет меня зовут Андрей!\n"
     ]
    },
    {
     "name": "stderr",
     "output_type": "stream",
     "text": [
      "--- Logging error ---\n",
      "Traceback (most recent call last):\n",
      "  File \"C:\\Users\\Masquerade\\anaconda3\\lib\\logging\\__init__.py\", line 1084, in emit\n",
      "    stream.write(msg + self.terminator)\n",
      "  File \"C:\\Users\\Masquerade\\anaconda3\\lib\\encodings\\cp1252.py\", line 19, in encode\n",
      "    return codecs.charmap_encode(input,self.errors,encoding_table)[0]\n",
      "UnicodeEncodeError: 'charmap' codec can't encode characters in position 95-100: character maps to <undefined>\n",
      "Call stack:\n",
      "  File \"C:\\Users\\Masquerade\\anaconda3\\lib\\runpy.py\", line 194, in _run_module_as_main\n",
      "    return _run_code(code, main_globals, None,\n",
      "  File \"C:\\Users\\Masquerade\\anaconda3\\lib\\runpy.py\", line 87, in _run_code\n",
      "    exec(code, run_globals)\n",
      "  File \"C:\\Users\\Masquerade\\anaconda3\\lib\\site-packages\\ipykernel_launcher.py\", line 16, in <module>\n",
      "    app.launch_new_instance()\n",
      "  File \"C:\\Users\\Masquerade\\anaconda3\\lib\\site-packages\\traitlets\\config\\application.py\", line 845, in launch_instance\n",
      "    app.start()\n",
      "  File \"C:\\Users\\Masquerade\\anaconda3\\lib\\site-packages\\ipykernel\\kernelapp.py\", line 612, in start\n",
      "    self.io_loop.start()\n",
      "  File \"C:\\Users\\Masquerade\\anaconda3\\lib\\site-packages\\tornado\\platform\\asyncio.py\", line 149, in start\n",
      "    self.asyncio_loop.run_forever()\n",
      "  File \"C:\\Users\\Masquerade\\anaconda3\\lib\\asyncio\\base_events.py\", line 570, in run_forever\n",
      "    self._run_once()\n",
      "  File \"C:\\Users\\Masquerade\\anaconda3\\lib\\asyncio\\base_events.py\", line 1859, in _run_once\n",
      "    handle._run()\n",
      "  File \"C:\\Users\\Masquerade\\anaconda3\\lib\\asyncio\\events.py\", line 81, in _run\n",
      "    self._context.run(self._callback, *self._args)\n",
      "  File \"C:\\Users\\Masquerade\\anaconda3\\lib\\site-packages\\tornado\\ioloop.py\", line 690, in <lambda>\n",
      "    lambda f: self._run_callback(functools.partial(callback, future))\n",
      "  File \"C:\\Users\\Masquerade\\anaconda3\\lib\\site-packages\\tornado\\ioloop.py\", line 743, in _run_callback\n",
      "    ret = callback()\n",
      "  File \"C:\\Users\\Masquerade\\anaconda3\\lib\\site-packages\\tornado\\gen.py\", line 787, in inner\n",
      "    self.run()\n",
      "  File \"C:\\Users\\Masquerade\\anaconda3\\lib\\site-packages\\tornado\\gen.py\", line 748, in run\n",
      "    yielded = self.gen.send(value)\n",
      "  File \"C:\\Users\\Masquerade\\anaconda3\\lib\\site-packages\\ipykernel\\kernelbase.py\", line 365, in process_one\n",
      "    yield gen.maybe_future(dispatch(*args))\n",
      "  File \"C:\\Users\\Masquerade\\anaconda3\\lib\\site-packages\\tornado\\gen.py\", line 209, in wrapper\n",
      "    yielded = next(result)\n",
      "  File \"C:\\Users\\Masquerade\\anaconda3\\lib\\site-packages\\ipykernel\\kernelbase.py\", line 268, in dispatch_shell\n",
      "    yield gen.maybe_future(handler(stream, idents, msg))\n",
      "  File \"C:\\Users\\Masquerade\\anaconda3\\lib\\site-packages\\tornado\\gen.py\", line 209, in wrapper\n",
      "    yielded = next(result)\n",
      "  File \"C:\\Users\\Masquerade\\anaconda3\\lib\\site-packages\\ipykernel\\kernelbase.py\", line 543, in execute_request\n",
      "    self.do_execute(\n",
      "  File \"C:\\Users\\Masquerade\\anaconda3\\lib\\site-packages\\tornado\\gen.py\", line 209, in wrapper\n",
      "    yielded = next(result)\n",
      "  File \"C:\\Users\\Masquerade\\anaconda3\\lib\\site-packages\\ipykernel\\ipkernel.py\", line 306, in do_execute\n",
      "    res = shell.run_cell(code, store_history=store_history, silent=silent)\n",
      "  File \"C:\\Users\\Masquerade\\anaconda3\\lib\\site-packages\\ipykernel\\zmqshell.py\", line 536, in run_cell\n",
      "    return super(ZMQInteractiveShell, self).run_cell(*args, **kwargs)\n",
      "  File \"C:\\Users\\Masquerade\\anaconda3\\lib\\site-packages\\IPython\\core\\interactiveshell.py\", line 2877, in run_cell\n",
      "    result = self._run_cell(\n",
      "  File \"C:\\Users\\Masquerade\\anaconda3\\lib\\site-packages\\IPython\\core\\interactiveshell.py\", line 2923, in _run_cell\n",
      "    return runner(coro)\n",
      "  File \"C:\\Users\\Masquerade\\anaconda3\\lib\\site-packages\\IPython\\core\\async_helpers.py\", line 68, in _pseudo_sync_runner\n",
      "    coro.send(None)\n",
      "  File \"C:\\Users\\Masquerade\\anaconda3\\lib\\site-packages\\IPython\\core\\interactiveshell.py\", line 3146, in run_cell_async\n",
      "    has_raised = await self.run_ast_nodes(code_ast.body, cell_name,\n",
      "  File \"C:\\Users\\Masquerade\\anaconda3\\lib\\site-packages\\IPython\\core\\interactiveshell.py\", line 3338, in run_ast_nodes\n",
      "    if (await self.run_code(code, result,  async_=asy)):\n",
      "  File \"C:\\Users\\Masquerade\\anaconda3\\lib\\site-packages\\IPython\\core\\interactiveshell.py\", line 3418, in run_code\n",
      "    exec(code_obj, self.user_global_ns, self.user_ns)\n",
      "  File \"<ipython-input-2-c1e068438af5>\", line 10, in <module>\n",
      "    emails_user = DSReader(dataset_path)\n",
      "  File \"C:\\Users\\Masquerade\\Documents\\GitHub\\Python-DS-Learning\\src\\reader.py\", line 51, in __init__\n",
      "    self.dataset = DSReader.load_dataset(self.patch)\n",
      "  File \"C:\\Users\\Masquerade\\Documents\\GitHub\\Python-DS-Learning\\src\\reader.py\", line 73, in load_dataset\n",
      "    logging.debug('Dataset:\\n%s', data_frame_csv)\n",
      "Message: 'Dataset:\\n%s'\n",
      "Arguments: (                       email label\n",
      "0  Привет меня зовут Андрей!     ?,)\n",
      "--- Logging error ---\n",
      "Traceback (most recent call last):\n",
      "  File \"C:\\Users\\Masquerade\\anaconda3\\lib\\logging\\__init__.py\", line 1084, in emit\n",
      "    stream.write(msg + self.terminator)\n",
      "  File \"C:\\Users\\Masquerade\\anaconda3\\lib\\encodings\\cp1252.py\", line 19, in encode\n",
      "    return codecs.charmap_encode(input,self.errors,encoding_table)[0]\n",
      "UnicodeEncodeError: 'charmap' codec can't encode characters in position 172-177: character maps to <undefined>\n",
      "Call stack:\n",
      "  File \"C:\\Users\\Masquerade\\anaconda3\\lib\\runpy.py\", line 194, in _run_module_as_main\n",
      "    return _run_code(code, main_globals, None,\n",
      "  File \"C:\\Users\\Masquerade\\anaconda3\\lib\\runpy.py\", line 87, in _run_code\n",
      "    exec(code, run_globals)\n",
      "  File \"C:\\Users\\Masquerade\\anaconda3\\lib\\site-packages\\ipykernel_launcher.py\", line 16, in <module>\n",
      "    app.launch_new_instance()\n",
      "  File \"C:\\Users\\Masquerade\\anaconda3\\lib\\site-packages\\traitlets\\config\\application.py\", line 845, in launch_instance\n",
      "    app.start()\n",
      "  File \"C:\\Users\\Masquerade\\anaconda3\\lib\\site-packages\\ipykernel\\kernelapp.py\", line 612, in start\n",
      "    self.io_loop.start()\n",
      "  File \"C:\\Users\\Masquerade\\anaconda3\\lib\\site-packages\\tornado\\platform\\asyncio.py\", line 149, in start\n",
      "    self.asyncio_loop.run_forever()\n",
      "  File \"C:\\Users\\Masquerade\\anaconda3\\lib\\asyncio\\base_events.py\", line 570, in run_forever\n",
      "    self._run_once()\n",
      "  File \"C:\\Users\\Masquerade\\anaconda3\\lib\\asyncio\\base_events.py\", line 1859, in _run_once\n",
      "    handle._run()\n",
      "  File \"C:\\Users\\Masquerade\\anaconda3\\lib\\asyncio\\events.py\", line 81, in _run\n",
      "    self._context.run(self._callback, *self._args)\n",
      "  File \"C:\\Users\\Masquerade\\anaconda3\\lib\\site-packages\\tornado\\ioloop.py\", line 690, in <lambda>\n",
      "    lambda f: self._run_callback(functools.partial(callback, future))\n",
      "  File \"C:\\Users\\Masquerade\\anaconda3\\lib\\site-packages\\tornado\\ioloop.py\", line 743, in _run_callback\n",
      "    ret = callback()\n",
      "  File \"C:\\Users\\Masquerade\\anaconda3\\lib\\site-packages\\tornado\\gen.py\", line 787, in inner\n",
      "    self.run()\n",
      "  File \"C:\\Users\\Masquerade\\anaconda3\\lib\\site-packages\\tornado\\gen.py\", line 748, in run\n",
      "    yielded = self.gen.send(value)\n",
      "  File \"C:\\Users\\Masquerade\\anaconda3\\lib\\site-packages\\ipykernel\\kernelbase.py\", line 365, in process_one\n",
      "    yield gen.maybe_future(dispatch(*args))\n",
      "  File \"C:\\Users\\Masquerade\\anaconda3\\lib\\site-packages\\tornado\\gen.py\", line 209, in wrapper\n",
      "    yielded = next(result)\n",
      "  File \"C:\\Users\\Masquerade\\anaconda3\\lib\\site-packages\\ipykernel\\kernelbase.py\", line 268, in dispatch_shell\n",
      "    yield gen.maybe_future(handler(stream, idents, msg))\n",
      "  File \"C:\\Users\\Masquerade\\anaconda3\\lib\\site-packages\\tornado\\gen.py\", line 209, in wrapper\n",
      "    yielded = next(result)\n",
      "  File \"C:\\Users\\Masquerade\\anaconda3\\lib\\site-packages\\ipykernel\\kernelbase.py\", line 543, in execute_request\n",
      "    self.do_execute(\n",
      "  File \"C:\\Users\\Masquerade\\anaconda3\\lib\\site-packages\\tornado\\gen.py\", line 209, in wrapper\n",
      "    yielded = next(result)\n",
      "  File \"C:\\Users\\Masquerade\\anaconda3\\lib\\site-packages\\ipykernel\\ipkernel.py\", line 306, in do_execute\n",
      "    res = shell.run_cell(code, store_history=store_history, silent=silent)\n",
      "  File \"C:\\Users\\Masquerade\\anaconda3\\lib\\site-packages\\ipykernel\\zmqshell.py\", line 536, in run_cell\n",
      "    return super(ZMQInteractiveShell, self).run_cell(*args, **kwargs)\n",
      "  File \"C:\\Users\\Masquerade\\anaconda3\\lib\\site-packages\\IPython\\core\\interactiveshell.py\", line 2877, in run_cell\n",
      "    result = self._run_cell(\n",
      "  File \"C:\\Users\\Masquerade\\anaconda3\\lib\\site-packages\\IPython\\core\\interactiveshell.py\", line 2923, in _run_cell\n",
      "    return runner(coro)\n",
      "  File \"C:\\Users\\Masquerade\\anaconda3\\lib\\site-packages\\IPython\\core\\async_helpers.py\", line 68, in _pseudo_sync_runner\n",
      "    coro.send(None)\n",
      "  File \"C:\\Users\\Masquerade\\anaconda3\\lib\\site-packages\\IPython\\core\\interactiveshell.py\", line 3146, in run_cell_async\n",
      "    has_raised = await self.run_ast_nodes(code_ast.body, cell_name,\n",
      "  File \"C:\\Users\\Masquerade\\anaconda3\\lib\\site-packages\\IPython\\core\\interactiveshell.py\", line 3338, in run_ast_nodes\n",
      "    if (await self.run_code(code, result,  async_=asy)):\n",
      "  File \"C:\\Users\\Masquerade\\anaconda3\\lib\\site-packages\\IPython\\core\\interactiveshell.py\", line 3418, in run_code\n",
      "    exec(code_obj, self.user_global_ns, self.user_ns)\n",
      "  File \"<ipython-input-2-c1e068438af5>\", line 10, in <module>\n",
      "    emails_user = DSReader(dataset_path)\n",
      "  File \"C:\\Users\\Masquerade\\Documents\\GitHub\\Python-DS-Learning\\src\\reader.py\", line 54, in __init__\n",
      "    logging.debug('INITIAL\\npath: %s,'\n",
      "Message: 'INITIAL\\npath: %s,\\ndataset: %s,\\ndictionary: %s'\n",
      "Arguments: ('C:\\\\Users\\\\Masquerade\\\\Documents\\\\GitHub\\\\Python-DS-Learning\\\\user.csv',                        email label\n",
      "0  Привет меня зовут Андрей!     ?, [])\n"
     ]
    },
    {
     "ename": "NameError",
     "evalue": "name 'data_set_cleaning' is not defined",
     "output_type": "error",
     "traceback": [
      "\u001b[1;31m---------------------------------------------------------------------------\u001b[0m",
      "\u001b[1;31mNameError\u001b[0m                                 Traceback (most recent call last)",
      "\u001b[1;32m<ipython-input-2-c1e068438af5>\u001b[0m in \u001b[0;36m<module>\u001b[1;34m\u001b[0m\n\u001b[0;32m     10\u001b[0m \u001b[0memails_user\u001b[0m \u001b[1;33m=\u001b[0m \u001b[0mDSReader\u001b[0m\u001b[1;33m(\u001b[0m\u001b[0mdataset_path\u001b[0m\u001b[1;33m)\u001b[0m\u001b[1;33m\u001b[0m\u001b[1;33m\u001b[0m\u001b[0m\n\u001b[0;32m     11\u001b[0m \u001b[1;33m\u001b[0m\u001b[0m\n\u001b[1;32m---> 12\u001b[1;33m \u001b[0mdata_set_cleaning\u001b[0m\u001b[1;33m(\u001b[0m\u001b[0memails_user\u001b[0m\u001b[1;33m)\u001b[0m\u001b[1;33m\u001b[0m\u001b[1;33m\u001b[0m\u001b[0m\n\u001b[0m\u001b[0;32m     13\u001b[0m \u001b[1;33m\u001b[0m\u001b[0m\n\u001b[0;32m     14\u001b[0m \u001b[0mpredict\u001b[0m \u001b[1;33m=\u001b[0m \u001b[0mpipeline_SGDClassifier2\u001b[0m\u001b[1;33m.\u001b[0m\u001b[0mpredict\u001b[0m\u001b[1;33m(\u001b[0m\u001b[0memails_user\u001b[0m\u001b[1;33m.\u001b[0m\u001b[0mdataset\u001b[0m\u001b[1;33m[\u001b[0m\u001b[1;34m'email'\u001b[0m\u001b[1;33m]\u001b[0m\u001b[1;33m)\u001b[0m\u001b[1;33m\u001b[0m\u001b[1;33m\u001b[0m\u001b[0m\n",
      "\u001b[1;31mNameError\u001b[0m: name 'data_set_cleaning' is not defined"
     ]
    }
   ],
   "source": [
    "email_text = input('Пожалуйста введите текст сообщения:\\n')\n",
    "\n",
    "df_email = pd.DataFrame({'email': [email_text],\n",
    "                         'label': '?'})\n",
    "                        \n",
    "df_email.to_csv(path_or_buf='user.csv', index=False)\n",
    "                        \n",
    "dataset_path = os.path.abspath(\"user.csv\")\n",
    "\n",
    "emails_user = DSReader(dataset_path)\n",
    "                        \n",
    "data_set_cleaning(emails_user)\n",
    "\n",
    "predict = pipeline_SGDClassifier2.predict(emails_user.dataset['email'])\n",
    "\n",
    "print(\"\\nЯ думаю что это письмо СПАМ!\" if predict == [1] else \"Я думаю это письмо НЕ СПАМ.\" )"
   ]
  },
  {
   "cell_type": "markdown",
   "metadata": {},
   "source": [
    "Точность нашей модели не очень велика и составляет всего 77% однако, данный показатель можно увеличить в будущем улучшив качество набора данных.\n",
    "\n",
    "<b>Спасибо за использование нашей программы!</b> "
   ]
  },
  {
   "cell_type": "markdown",
   "metadata": {},
   "source": [
    "import os\n",
    "import nltk\n",
    "import matplotlib.pyplot as plt\n",
    "from src.reader import DSReader\n",
    "from sklearn.pipeline import Pipeline\n",
    "from sklearn.linear_model import SGDClassifier\n",
    "from sklearn.metrics import plot_confusion_matrix\n",
    "from sklearn.feature_extraction.text import CountVectorizer\n",
    "from sklearn.feature_extraction.text import TfidfTransformer\n",
    "\n",
    "nltk.download('punkt')\n",
    "\n",
    "try:\n",
    "    nltk.find(\"stopwords\")\n",
    "except LookupError:\n",
    "    nltk.download(\"stopwords\")\n",
    "\n",
    "\n",
    "def data_set_cleaning(obj):\n",
    "    obj.to_lower()\n",
    "    obj.remove_digits()\n",
    "    obj.remove_punctuation_marks()\n",
    "    obj.remove_duplicates()\n",
    "    obj.remove_stopwords()\n",
    "\n",
    "url = \"raw.githubusercontent.com/awilliamson1889/Python-DS-Learning/email-clf-model/tests/datasets/emails.csv\"\n",
    "dataset_path = os.path.abspath(\"./tests/datasets/emails.csv\")\n",
    "test_dataset_path = os.path.abspath(\"./tests/datasets/spam_ham_dataset.csv\")\n",
    "\n",
    "test_data = DSReader(test_dataset_path)\n",
    "\n",
    "try:\n",
    "    emails_data = DSReader(dataset_path)\n",
    "except FileNotFoundError:\n",
    "    print(\"Dataset not found.\\nDownloading dataset from: \", url)\n",
    "    emails_data = DSReader(url)\n",
    "\n",
    "data_set_cleaning(emails_data)\n",
    "data_set_cleaning(test_data)\n",
    "\n",
    "X_train, y_train = emails_data.vectorize()\n",
    "X_test, y_test = test_data.vectorize()\n",
    "\n",
    "pipeline_SGDClassifier2 = Pipeline([('vect', CountVectorizer()),\n",
    "                                    ('tfidf', TfidfTransformer()),\n",
    "                                    ('clf', SGDClassifier(loss='hinge', penalty='l2',\n",
    "                                                          alpha=1e-3, random_state=1))])\n",
    "\n",
    "pipeline_SGDClassifier2.fit(X_train.ravel(), y_train)\n",
    "\n",
    "print('Fit process successful ending!')\n",
    "\n",
    "answers = pipeline_SGDClassifier2.predict(X_test.ravel())\n",
    "\n",
    "print(pipeline_SGDClassifier2.score(X_test.ravel(), y_test))\n",
    "\n",
    "\n",
    "class_names = ['not spam', 'spam']\n",
    "\n",
    "titles_options = [(\"Confusion matrix pipeline_SGDClassifier\", None, pipeline_SGDClassifier2)]\n",
    "\n",
    "for title, normalize, classifier in titles_options:\n",
    "    disp = plot_confusion_matrix(classifier, X_test.ravel(), y_test,\n",
    "                                 display_labels=class_names,\n",
    "                                 cmap=plt.cm.Blues,\n",
    "                                 normalize=normalize)\n",
    "\n",
    "    matrix = disp.confusion_matrix\n",
    "\n",
    "    TP, FP, FN, TN = matrix[0][0], matrix[0][1], matrix[1][0], matrix[1][1]\n",
    "\n",
    "    disp.ax_.set_title(title)\n",
    "\n",
    "    recall = TP / (TP + FN)\n",
    "    precision = TP / (TP + FP)\n",
    "    f_measure = 2 * recall * precision / (precision + recall)\n",
    "\n",
    "    plt.savefig('model_confusion_matrix.png', dpi=120)\n",
    "\n",
    "with open('metrics.txt', 'w') as outfile:\n",
    "    outfile.write(f'Recall = {recall}\\nPrecision = {precision}\\nF-measure = {f_measure}')\n",
    "\n"
   ]
  },
  {
   "cell_type": "code",
   "execution_count": null,
   "metadata": {},
   "outputs": [],
   "source": []
  }
 ],
 "metadata": {
  "kernelspec": {
   "display_name": "Python 3",
   "language": "python",
   "name": "python3"
  },
  "language_info": {
   "codemirror_mode": {
    "name": "ipython",
    "version": 3
   },
   "file_extension": ".py",
   "mimetype": "text/x-python",
   "name": "python",
   "nbconvert_exporter": "python",
   "pygments_lexer": "ipython3",
   "version": "3.8.5"
  }
 },
 "nbformat": 4,
 "nbformat_minor": 4
}
